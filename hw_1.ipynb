{
 "cells": [
  {
   "cell_type": "markdown",
   "metadata": {},
   "source": [
    "1. Сравните метрики hit_rate@k, precision@k.   \n",
    "Какую метрику использовать предпочтительно и почему?  \n",
    "Приведите пример 2-3 задач (опишите, что является клиентом, что товаром), в которой более уместно использовать метрику hit_rate?\n"
   ]
  },
  {
   "cell_type": "markdown",
   "metadata": {},
   "source": [
    "**hit_rate@k** - был ли хотя бы один релевантный товар среди топ k рекомендованных. Как правило недостаточно информативна, т.к. принимает только значения 1/0.\n",
    "\n",
    "**precision@k** - доля релевантных товаров, среди топ k рекомендованных.\n",
    "\n",
    "На мой взгляд, метрика hit_rate@k может быть актуальна, если мы рассматриваем аналогичные товары, среди которых наш клиент купит лишь 1, например при покупке квартиры или поиске подходящей вакансии."
   ]
  },
  {
   "cell_type": "markdown",
   "metadata": {},
   "source": [
    "2. В метрике NDCG@k мы используем логарифм в знаменателе. Как Вы думаете, почему именно логарифм? Какую функцию можно использовать вместо логарифма? Привидите пример метрик/подходов к предобработке данных/функций ошибок в ML, где также в  логарифм.\n",
    "\n"
   ]
  },
  {
   "cell_type": "markdown",
   "metadata": {},
   "source": [
    "Логарифм используется как функция дисконтирования: ранжирование позиций в начале списка отличаются гораздо сильнее, чем позиции в его конце. \n",
    "Для этой цели так же можно использовать степенные функции.\n",
    "\n",
    "Логарифм так же используется в logloss, TF-IDF."
   ]
  },
  {
   "cell_type": "markdown",
   "metadata": {},
   "source": [
    "3. Какие еще метрики (Вы можете вспомнить уже пройденные Вами или посмотреть в интернете) могут использоваться для рекомендательных систем (приведите примеры метрики **и чем являются интеракции**, чтобы она могла быть использована).\n",
    "\n",
    "Можно так же использовать F-score, для балансирования показателей recall и precision, корреляцию Спирмана."
   ]
  },
  {
   "cell_type": "markdown",
   "metadata": {},
   "source": [
    "4. boughted = [1, 3, 5, 7, 9, 11]  \n",
    "recommended = [2, 5, 7, 4, 11, 9, 8, 10, 12, 3]  \n",
    "Посчитайте на этих данных pr@8, rec@8, AP@8, NDCG@8, MRR@8,  \n",
    "Сначала поссчитайет \"руками\", а затем подтвердите рассчеты с помощью функций (некоторые были на семинаре, некоторые нужно будут написать самостоятельно)\n",
    "\n",
    "IDCG должен считаться для всех 8 позиций рекомендаций"
   ]
  },
  {
   "cell_type": "markdown",
   "metadata": {},
   "source": [
    "**Пример выполнения 4го задания**\n",
    "\n",
    "MSE на  \n",
    "$y = [0, 2]$  \n",
    "$y_{pred} = [1, 2]$\n",
    "\n",
    "MSE = $0.5*((0 - 1)^2 + (2-2)^2) = 0.5$ "
   ]
  },
  {
   "cell_type": "code",
   "execution_count": 1,
   "metadata": {},
   "outputs": [
    {
     "data": {
      "text/plain": [
       "0.5"
      ]
     },
     "execution_count": 1,
     "metadata": {},
     "output_type": "execute_result"
    }
   ],
   "source": [
    "import numpy as np\n",
    "((np.array([0, 2]) - np.array([1, 2]))**2).mean()"
   ]
  },
  {
   "cell_type": "code",
   "execution_count": 2,
   "metadata": {},
   "outputs": [],
   "source": [
    "bought = [1, 3, 5, 7, 9, 11]  \n",
    "recommended_8 = [2, 5, 7, 4, 11, 9, 8, 10] \n",
    "k = 8"
   ]
  },
  {
   "cell_type": "code",
   "execution_count": 3,
   "metadata": {},
   "outputs": [],
   "source": [
    "TP = [5, 7, 9, 11]\n",
    "FP = [2, 4, 8, 10]\n",
    "FN = [1, 3]"
   ]
  },
  {
   "cell_type": "code",
   "execution_count": 4,
   "metadata": {},
   "outputs": [],
   "source": [
    "def precision_at_k(recommended_list, bought_list, k):\n",
    "    \n",
    "    bought_list = np.array(bought_list)\n",
    "    recommended_list = np.array(recommended_list)\n",
    "    \n",
    "    bought_list = bought_list  \n",
    "    recommended_list = recommended_list[:k]\n",
    "    \n",
    "    flags = np.isin(bought_list, recommended_list)\n",
    "    precision = flags.sum() / len(recommended_list)\n",
    "    \n",
    "    \n",
    "    return precision"
   ]
  },
  {
   "cell_type": "code",
   "execution_count": 5,
   "metadata": {},
   "outputs": [
    {
     "name": "stdout",
     "output_type": "stream",
     "text": [
      "pr@8: 0.5 / 0.5\n"
     ]
    }
   ],
   "source": [
    "precision_man = len(TP)/(len(TP) + len(FP))\n",
    "precision = precision_at_k(recommended_8, bought, k)\n",
    "\n",
    "print(f'pr@8: {precision_man} / {precision}')"
   ]
  },
  {
   "cell_type": "code",
   "execution_count": 6,
   "metadata": {},
   "outputs": [],
   "source": [
    "def recall_at_k(recommended_list, bought_list, k):\n",
    "    bought_list = np.array(bought_list)\n",
    "    recommended_list = np.array(recommended_list)[:k]\n",
    "    \n",
    "    flags = np.isin(bought_list, recommended_list)\n",
    "    \n",
    "    recall = flags.sum() / len(bought_list)\n",
    "    \n",
    "    return recall"
   ]
  },
  {
   "cell_type": "code",
   "execution_count": 7,
   "metadata": {},
   "outputs": [
    {
     "name": "stdout",
     "output_type": "stream",
     "text": [
      "rec@8: 0.6666666666666666 / 0.6666666666666666\n"
     ]
    }
   ],
   "source": [
    "recall_man = len(TP)/(len(TP) + len(FN))\n",
    "recall = recall_at_k(recommended_8, bought, k)\n",
    "\n",
    "print(f'rec@8: {recall_man} / {recall}')"
   ]
  },
  {
   "cell_type": "code",
   "execution_count": 8,
   "metadata": {},
   "outputs": [],
   "source": [
    "def ap_k(recommended_list, bought_list, k):\n",
    "    \n",
    "    bought_list = np.array(bought_list)\n",
    "    recommended_list = np.array(recommended_list)[:k]\n",
    "    \n",
    "    flags = np.isin(recommended_list, bought_list)\n",
    "    \n",
    "    if sum(flags) == 0:\n",
    "        return 0\n",
    "    \n",
    "    sum_ = 0\n",
    "    for i in range(1, k+1): \n",
    "\n",
    "        \n",
    "        if flags[i-1] == True:\n",
    "            p_k = precision_at_k(recommended_list, bought_list, k=i)\n",
    "\n",
    "            sum_ += p_k\n",
    "            \n",
    "    result = sum_ / len(flags)\n",
    "    \n",
    "    return result"
   ]
  },
  {
   "cell_type": "code",
   "execution_count": 9,
   "metadata": {},
   "outputs": [
    {
     "name": "stdout",
     "output_type": "stream",
     "text": [
      "AP@8: 0.30416666666666664 / 0.30416666666666664\n"
     ]
    }
   ],
   "source": [
    "average_precision_man = 1/k*(0+0+2/3+2/4+3/5+4/6)\n",
    "average_precision = ap_k(recommended_8, bought, k)\n",
    "\n",
    "print(f'AP@8: {average_precision_man} / {average_precision}')"
   ]
  },
  {
   "cell_type": "code",
   "execution_count": 10,
   "metadata": {},
   "outputs": [],
   "source": [
    "def dcg_at_k(recommended_list, bought_list, k):\n",
    "    bought_list = np.array(bought_list)\n",
    "    recommended_list = np.array(recommended_list)[:k]\n",
    "    \n",
    "    flags = np.isin(recommended_list, bought_list)\n",
    "    \n",
    "    if flags[0] == True:\n",
    "        sum_ = 1\n",
    "    else:\n",
    "        sum_ = 0\n",
    "        \n",
    "    for i in range(2, k+1): \n",
    "        if flags[i-1] == True:\n",
    "            log_2 = 1 / np.log2(i)\n",
    "            sum_ += log_2\n",
    "            \n",
    "    return sum_ / k\n",
    "    \n",
    "    \n",
    "def ndcg_at_k(recommended_list, bought_list, k):\n",
    "    \n",
    "    sum_ = 1\n",
    "    \n",
    "    for i in range(2, k+1):\n",
    "        log_2 = 1 / np.log2(i)\n",
    "        sum_ += log_2\n",
    "        \n",
    "    ideal_dcg = sum_ / k\n",
    "    \n",
    "    dcg = dcg_at_k(recommended_list, bought_list, k)\n",
    "    \n",
    "    return dcg / ideal_dcg"
   ]
  },
  {
   "cell_type": "code",
   "execution_count": 11,
   "metadata": {},
   "outputs": [
    {
     "name": "stdout",
     "output_type": "stream",
     "text": [
      "NDCG@8: 0.5279127445637272 / 0.5279127445637272\n"
     ]
    }
   ],
   "source": [
    "dcg_man = 1/8 * (1/np.log2(2) + 1/np.log2(3) + 1/np.log2(5) + 1/np.log2(6))\n",
    "ideal_dcg = 1/8 * (1/1 + 1/np.log2(2) + 1/np.log2(3) + 1/np.log2(4) + 1/np.log2(5) + 1/np.log2(6) + 1/np.log2(7) + 1/np.log2(8))\n",
    "ndcg_man = dcg_man / ideal_dcg\n",
    "\n",
    "ndcg = ndcg_at_k(recommended_8, bought, k)\n",
    "\n",
    "print(f'NDCG@8: {ndcg_man} / {ndcg}')"
   ]
  },
  {
   "cell_type": "code",
   "execution_count": 12,
   "metadata": {},
   "outputs": [],
   "source": [
    "def reciprocal_rank(recommended_list, bought_list):\n",
    "    ranks=0.\n",
    "    for i, item_rec in enumerate(recommended_list):\n",
    "        for item_bought in bought_list:\n",
    "            if item_rec == item_bought:\n",
    "                ranks += 1 / (i+1)\n",
    "    return ranks / len(recommended_list)"
   ]
  },
  {
   "cell_type": "code",
   "execution_count": 13,
   "metadata": {},
   "outputs": [
    {
     "name": "stdout",
     "output_type": "stream",
     "text": [
      "MRR@8: 0.15 / 0.15\n"
     ]
    }
   ],
   "source": [
    "mrr_man = (1/2+1/3+1/5+1/6)/8\n",
    "mrr = reciprocal_rank(recommended_8, bought)\n",
    "\n",
    "print(f'MRR@8: {mrr_man} / {mrr}')"
   ]
  }
 ],
 "metadata": {
  "kernelspec": {
   "display_name": "Python 3",
   "language": "python",
   "name": "python3"
  },
  "language_info": {
   "codemirror_mode": {
    "name": "ipython",
    "version": 3
   },
   "file_extension": ".py",
   "mimetype": "text/x-python",
   "name": "python",
   "nbconvert_exporter": "python",
   "pygments_lexer": "ipython3",
   "version": "3.8.5"
  }
 },
 "nbformat": 4,
 "nbformat_minor": 2
}
